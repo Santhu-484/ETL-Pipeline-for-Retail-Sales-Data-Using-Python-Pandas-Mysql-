{
 "cells": [
  {
   "cell_type": "markdown",
   "id": "239b1199-1e26-41e8-860b-ebcbae36e8a1",
   "metadata": {},
   "source": [
    "# ETL Pipeline for Retail Sales Data (Using Python + Pandas + Mysql)"
   ]
  },
  {
   "cell_type": "code",
   "execution_count": 60,
   "id": "7b0e886e-78f7-4100-b558-2284a782a88c",
   "metadata": {},
   "outputs": [],
   "source": [
    "api_key = 'b0efa0a9b0010b8f1c62ba02966ad29d'"
   ]
  },
  {
   "cell_type": "markdown",
   "id": "983204c5-332f-4b00-8a19-873a1523540c",
   "metadata": {},
   "source": [
    "## Extract"
   ]
  },
  {
   "cell_type": "code",
   "execution_count": 75,
   "id": "6ea9112b-d700-4d38-abd6-c24102999d4b",
   "metadata": {},
   "outputs": [
    {
     "name": "stdout",
     "output_type": "stream",
     "text": [
      "{'city': 'Mumbai', 'temperature': 31.99, 'humidity': 58, 'weather': 'haze'}\n"
     ]
    }
   ],
   "source": [
    "# 1.Extract\n",
    "import requests\n",
    "\n",
    "api_key = 'b0efa0a9b0010b8f1c62ba02966ad29d'\n",
    "city = 'Mumbai'\n",
    "url = f'http://api.openweathermap.org/data/2.5/weather?q={city}&appid={api_key}&units=metric'\n",
    "\n",
    "response = requests.get(url)\n",
    "data = response.json()\n",
    "\n",
    "if response.status_code == 200 and 'main' in data:\n",
    "    weather_info = {\n",
    "        'city': data.get('name'),\n",
    "        'temperature': data['main']['temp'],\n",
    "        'humidity': data['main']['humidity'],\n",
    "        'weather': data['weather'][0]['description']\n",
    "    }\n",
    "    print(weather_info)\n",
    "else:\n",
    "    print(\"Error fetching data:\", data.get(\"message\", \"Unknown error\"))\n"
   ]
  },
  {
   "cell_type": "markdown",
   "id": "e38b39b5-9887-4345-8e3d-2be680d65bd9",
   "metadata": {},
   "source": [
    "## Transform Data"
   ]
  },
  {
   "cell_type": "code",
   "execution_count": 65,
   "id": "855d2d0a-7472-4162-90d7-15e091772463",
   "metadata": {},
   "outputs": [
    {
     "name": "stdout",
     "output_type": "stream",
     "text": [
      "     city  temperature  humidity weather            timestamp\n",
      "0  Mumbai        31.99        58    haze  2025-05-21 16:20:29\n"
     ]
    }
   ],
   "source": [
    "# 2. Transform\n",
    "import pandas as pd\n",
    "from datetime import datetime\n",
    "\n",
    "weather_info['timestamp'] = datetime.now().strftime(\"%Y-%m-%d %H:%M:%S\")\n",
    "df_weather = pd.DataFrame([weather_info])\n",
    "print(df_weather)\n"
   ]
  },
  {
   "cell_type": "code",
   "execution_count": 67,
   "id": "9fa5a235-2dba-4798-a8ff-14e1aa41f342",
   "metadata": {},
   "outputs": [
    {
     "name": "stdout",
     "output_type": "stream",
     "text": [
      "Weather data inserted successfully!\n"
     ]
    }
   ],
   "source": [
    "# 3. Load\n",
    "import mysql.connector\n",
    "\n",
    "connection = mysql.connector.connect(\n",
    "    host=\"localhost\",\n",
    "    user='root',\n",
    "    password=\"Santhu1@\",\n",
    "    database=\"weather\"\n",
    ")\n",
    "\n",
    "cursor = connection.cursor()\n",
    "\n",
    "create_table_query = \"\"\"\n",
    "CREATE TABLE IF NOT EXISTS weatherdb (\n",
    "    city VARCHAR(100),\n",
    "    temperature FLOAT,\n",
    "    humidity INT,\n",
    "    weather VARCHAR(100),\n",
    "    timestamp DATETIME\n",
    ")\n",
    "\"\"\"\n",
    "cursor.execute(create_table_query)\n",
    "\n",
    "insert_query = \"\"\"\n",
    "INSERT INTO weatherdb (city, temperature, humidity, weather, timestamp)\n",
    "VALUES (%s, %s, %s, %s, %s)\n",
    "\"\"\"\n",
    "cursor.execute(insert_query, tuple(weather_info.values()))\n",
    "connection.commit()\n",
    "connection.close()\n",
    "print(\"Weather data inserted successfully!\")\n"
   ]
  },
  {
   "cell_type": "code",
   "execution_count": null,
   "id": "d1a9d245-56bc-42cb-9ec0-f4c8165832c3",
   "metadata": {},
   "outputs": [],
   "source": []
  }
 ],
 "metadata": {
  "kernelspec": {
   "display_name": "Python [conda env:base] *",
   "language": "python",
   "name": "conda-base-py"
  },
  "language_info": {
   "codemirror_mode": {
    "name": "ipython",
    "version": 3
   },
   "file_extension": ".py",
   "mimetype": "text/x-python",
   "name": "python",
   "nbconvert_exporter": "python",
   "pygments_lexer": "ipython3",
   "version": "3.12.7"
  }
 },
 "nbformat": 4,
 "nbformat_minor": 5
}
